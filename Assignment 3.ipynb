{
 "cells": [
  {
   "cell_type": "markdown",
   "metadata": {
    "colab_type": "text",
    "id": "0yzl3MKzf98L"
   },
   "source": [
    "<img src=\"Fireblaze__2___3_-removebg-preview.png\" width=300 height=250 />"
   ]
  },
  {
   "cell_type": "markdown",
   "metadata": {
    "colab_type": "text",
    "id": "LFqGx_Dhf98M"
   },
   "source": [
    "## Table of Content\n",
    "\n",
    "1. **[For loop](#For_loop)**\n",
    "2. **[While loop](#While_loop)**\n",
    "3. **[List Comprehension](#List_Comprehension)**\n",
    "4. **[User defined function ](#User_defined_function)**\n",
    "5. **[Lambda function](#Lambda_function)**"
   ]
  },
  {
   "cell_type": "markdown",
   "metadata": {
    "colab_type": "text",
    "id": "psOYFu6zf98N"
   },
   "source": [
    "### Let's begin with some hands-on practice exercises"
   ]
  },
  {
   "cell_type": "markdown",
   "metadata": {
    "colab_type": "text",
    "id": "r4J-iIEhf98N"
   },
   "source": [
    "<a id=\"For_loop\"> </a>\n",
    "## <span style='color:Brown'> **1. For loop** </span>"
   ]
  },
  {
   "cell_type": "markdown",
   "metadata": {},
   "source": [
    "### <span style='color:Blue'> **Question - 1.Print each fruit in a given list.** </span>\n",
    "Given:\n",
    "fruits=[ ' Mango ', ' Kiwi ', ' Avocado ', ' Banana ']\n"
   ]
  },
  {
   "cell_type": "code",
   "execution_count": 1,
   "metadata": {
    "colab": {},
    "colab_type": "code",
    "id": "TZatTfxJjAUr"
   },
   "outputs": [
    {
     "name": "stdout",
     "output_type": "stream",
     "text": [
      " Mango \n",
      " Kiwi \n",
      " Avocado \n",
      " Banana \n"
     ]
    }
   ],
   "source": [
    "#write observation and code here\n",
    "fruits=[ ' Mango ', ' Kiwi ', ' Avocado ', ' Banana ']\n",
    "for x in fruits:\n",
    "  print(x)"
   ]
  },
  {
   "cell_type": "markdown",
   "metadata": {},
   "source": [
    "### <span style='color:Blue'> **Question - 1.1.Write a program to get a required output.** </span>\n",
    "Given:\n",
    "fruits=[ ' Mango ', ' Kiwi ', ' Avocado ', ' Banana ']"
   ]
  },
  {
   "cell_type": "code",
   "execution_count": 2,
   "metadata": {},
   "outputs": [
    {
     "name": "stdout",
     "output_type": "stream",
     "text": [
      "I Love Mango\n",
      "I like Kiwi\n",
      "I dont like Avocado\n",
      "Some time I like Banana\n"
     ]
    }
   ],
   "source": [
    "fruits = ['Mango', 'Kiwi', 'Avocado', 'Banana']\n",
    "\n",
    "for fruit in fruits:\n",
    "    if fruit == 'Mango':\n",
    "        print('I Love', fruit)\n",
    "    elif fruit == 'Kiwi':\n",
    "        print('I like', fruit)\n",
    "    elif fruit == 'Avocado':\n",
    "        print('I dont like', fruit)\n",
    "    elif fruit == 'Banana':\n",
    "        print('Some time I like', fruit)\n"
   ]
  },
  {
   "cell_type": "raw",
   "metadata": {},
   "source": [
    "Required o/p:\n",
    "I Love Mango\n",
    "I like Kiwi\n",
    "I dont like Avocado\n",
    "Some time I like banana"
   ]
  },
  {
   "cell_type": "markdown",
   "metadata": {},
   "source": [
    "### <span style='color:Blue'> **Question - 2.Print the following patterns using for loop .** </span>"
   ]
  },
  {
   "cell_type": "raw",
   "metadata": {},
   "source": [
    "Required o/p :\n",
    "\n",
    "*\n",
    "**\n",
    "***\n",
    "****"
   ]
  },
  {
   "cell_type": "code",
   "execution_count": 3,
   "metadata": {
    "colab": {},
    "colab_type": "code",
    "id": "D6mdOlsSjAUw"
   },
   "outputs": [
    {
     "name": "stdout",
     "output_type": "stream",
     "text": [
      "*\n",
      "**\n",
      "***\n",
      "****\n"
     ]
    }
   ],
   "source": [
    "#write observation and code here\n",
    "for i in range(1, 5):\n",
    "    print('*' * i)"
   ]
  },
  {
   "cell_type": "markdown",
   "metadata": {},
   "source": [
    "### <span style='color:Blue'> **Question - 3.Iterate Dictionary using for loop.** </span>"
   ]
  },
  {
   "cell_type": "raw",
   "metadata": {},
   "source": [
    "Given:\n",
    "dict1 = {1: \"Apple\", 2: \"Ball\", 3: \"Cat\"}\n",
    "dict2 = {\"Brand\": \"BMW\", \"Color\": \"Black\", \"Date\": 1964}"
   ]
  },
  {
   "cell_type": "markdown",
   "metadata": {},
   "source": [
    "**Access only the keys of the dictionary.**"
   ]
  },
  {
   "cell_type": "code",
   "execution_count": 4,
   "metadata": {},
   "outputs": [
    {
     "name": "stdout",
     "output_type": "stream",
     "text": [
      "dict_keys([1, 2, 3])\n",
      "dict_keys(['Brand', 'Color', 'Date'])\n"
     ]
    }
   ],
   "source": [
    "#write observation and code here\n",
    "# For dict1\n",
    "dict1 = {1: \"Apple\", 2: \"Ball\", 3: \"Cat\"}\n",
    "keys1 = dict1.keys()\n",
    "print(keys1)  # This will print: dict_keys([1, 2, 3])\n",
    "\n",
    "# For dict2\n",
    "dict2 = {\"Brand\": \"BMW\", \"Color\": \"Black\", \"Date\": 1964}\n",
    "keys2 = dict2.keys()\n",
    "print(keys2)  # This will print: dict_keys(['Brand', 'Color', 'Date'])\n"
   ]
  },
  {
   "cell_type": "markdown",
   "metadata": {},
   "source": [
    "**Iterate keys and values of the dictionary**"
   ]
  },
  {
   "cell_type": "code",
   "execution_count": 5,
   "metadata": {},
   "outputs": [
    {
     "name": "stdout",
     "output_type": "stream",
     "text": [
      "Key: 1, Value: Apple\n",
      "Key: 2, Value: Ball\n",
      "Key: 3, Value: Cat\n",
      "Key: Brand, Value: BMW\n",
      "Key: Color, Value: Black\n",
      "Key: Date, Value: 1964\n"
     ]
    }
   ],
   "source": [
    "#write observation and code here\n",
    "# For dict1\n",
    "dict1 = {1: \"Apple\", 2: \"Ball\", 3: \"Cat\"}\n",
    "for key, value in dict1.items():\n",
    "    print(f\"Key: {key}, Value: {value}\")\n",
    "\n",
    "# For dict2\n",
    "dict2 = {\"Brand\": \"BMW\", \"Color\": \"Black\", \"Date\": 1964}\n",
    "for key, value in dict2.items():\n",
    "    print(f\"Key: {key}, Value: {value}\")\n"
   ]
  },
  {
   "cell_type": "markdown",
   "metadata": {},
   "source": [
    "**Iterate only the values the dictionary**"
   ]
  },
  {
   "cell_type": "code",
   "execution_count": 6,
   "metadata": {},
   "outputs": [
    {
     "name": "stdout",
     "output_type": "stream",
     "text": [
      "Apple\n",
      "Ball\n",
      "Cat\n",
      "BMW\n",
      "Black\n",
      "1964\n"
     ]
    }
   ],
   "source": [
    "#write observation and code here\n",
    "# For dict1\n",
    "dict1 = {1: \"Apple\", 2: \"Ball\", 3: \"Cat\"}\n",
    "for key in dict1:\n",
    "    value = dict1[key]\n",
    "    print(value)\n",
    "\n",
    "# For dict2\n",
    "dict2 = {\"Brand\": \"BMW\", \"Color\": \"Black\", \"Date\": 1964}\n",
    "for key in dict2:\n",
    "    value = dict2[key]\n",
    "    print(value)\n"
   ]
  },
  {
   "cell_type": "markdown",
   "metadata": {
    "colab_type": "text",
    "id": "QLSslfFdf98b"
   },
   "source": [
    "<a id=\"While_loop\"> </a>\n",
    "## <span style='color:Brown'> **2. While loop** </span>"
   ]
  },
  {
   "cell_type": "markdown",
   "metadata": {},
   "source": [
    "### <span style='color:Blue'> **Question - 4.Write a program to print the folowing using while loop.** </span>"
   ]
  },
  {
   "cell_type": "markdown",
   "metadata": {
    "colab_type": "text",
    "id": "2R8Ix1P4f98c"
   },
   "source": [
    "**First 10 even numbers.**"
   ]
  },
  {
   "cell_type": "code",
   "execution_count": 7,
   "metadata": {
    "colab": {},
    "colab_type": "code",
    "id": "G9tUhjLzjAU4"
   },
   "outputs": [
    {
     "name": "stdout",
     "output_type": "stream",
     "text": [
      "0\n",
      "2\n",
      "4\n",
      "6\n",
      "8\n",
      "10\n",
      "12\n",
      "14\n",
      "16\n",
      "18\n"
     ]
    }
   ],
   "source": [
    "#write observation and code here\n",
    "v=0\n",
    "while v<20:\n",
    "    if v%2==0:\n",
    "        print(v)\n",
    "    v=v+1"
   ]
  },
  {
   "cell_type": "markdown",
   "metadata": {
    "colab_type": "text",
    "id": "3txBZsy1f98f"
   },
   "source": [
    "**First 10 odd numbers.** <br>"
   ]
  },
  {
   "cell_type": "code",
   "execution_count": 20,
   "metadata": {
    "colab": {},
    "colab_type": "code",
    "id": "YLEBSRgwjAU7"
   },
   "outputs": [
    {
     "name": "stdout",
     "output_type": "stream",
     "text": [
      "1\n",
      "3\n",
      "5\n",
      "7\n",
      "9\n",
      "11\n",
      "13\n",
      "15\n",
      "17\n",
      "19\n"
     ]
    }
   ],
   "source": [
    "#write observation and code here\n",
    "v = 1  \n",
    "count = 0 \n",
    "while count < 10:\n",
    "    print(v)\n",
    "    v = v+2  \n",
    "    count += 1  \n"
   ]
  },
  {
   "cell_type": "markdown",
   "metadata": {
    "colab_type": "text",
    "id": "9pgoDopkf98i"
   },
   "source": [
    "**First 10 natural numbers** "
   ]
  },
  {
   "cell_type": "code",
   "execution_count": 21,
   "metadata": {
    "colab": {},
    "colab_type": "code",
    "id": "-MnJNs3wjAU_"
   },
   "outputs": [
    {
     "name": "stdout",
     "output_type": "stream",
     "text": [
      "1\n",
      "2\n",
      "3\n",
      "4\n",
      "5\n",
      "6\n",
      "7\n",
      "8\n",
      "9\n",
      "10\n"
     ]
    }
   ],
   "source": [
    "#write observation and code here\n",
    "v = 1 \n",
    "count = 0 \n",
    "while count < 10:\n",
    "    print(v)\n",
    "    v = v+1 \n",
    "    count += 1  "
   ]
  },
  {
   "cell_type": "markdown",
   "metadata": {},
   "source": [
    "### <span style='color:Blue'> **Question - 5.Write a program to print first 10 integers and their squares using while loop.** </span>"
   ]
  },
  {
   "cell_type": "raw",
   "metadata": {},
   "source": [
    "- eg:\n",
    "integer   Square\n",
    "  1         1\n",
    "  2         4\n",
    "  3         9"
   ]
  },
  {
   "cell_type": "code",
   "execution_count": 25,
   "metadata": {},
   "outputs": [
    {
     "name": "stdout",
     "output_type": "stream",
     "text": [
      "Integer   Square\n",
      "  1        1\n",
      "  2        4\n",
      "  3        9\n",
      "  4        16\n",
      "  5        25\n",
      "  6        36\n",
      "  7        49\n",
      "  8        64\n",
      "  9        81\n",
      "  10        100\n"
     ]
    }
   ],
   "source": [
    "#write observation and code here\n",
    "integer = 1  \n",
    "count = 0 \n",
    "\n",
    "print(\"Integer   Square\")\n",
    "while count < 10:\n",
    "    square = integer * integer  \n",
    "    print(f\"  {integer}        {square}\")\n",
    "    integer += 1  \n",
    "    count += 1  "
   ]
  },
  {
   "cell_type": "markdown",
   "metadata": {
    "colab_type": "text",
    "id": "OL9cj_rRf983"
   },
   "source": [
    "<a id=\"List_Comprehension\"></a>\n",
    "## <span style='color:Brown'> **3. List Comrehension** </span>"
   ]
  },
  {
   "cell_type": "markdown",
   "metadata": {},
   "source": [
    "### <span style='color:Blue'> **Question - 6.Find all of the numbers from 1–1000 that are divisible by 8.** </span>\n",
    "**Note:**Use list coprehension"
   ]
  },
  {
   "cell_type": "code",
   "execution_count": 27,
   "metadata": {},
   "outputs": [
    {
     "name": "stdout",
     "output_type": "stream",
     "text": [
      "[8, 16, 24, 32, 40, 48, 56, 64, 72, 80, 88, 96, 104, 112, 120, 128, 136, 144, 152, 160, 168, 176, 184, 192, 200, 208, 216, 224, 232, 240, 248, 256, 264, 272, 280, 288, 296, 304, 312, 320, 328, 336, 344, 352, 360, 368, 376, 384, 392, 400, 408, 416, 424, 432, 440, 448, 456, 464, 472, 480, 488, 496, 504, 512, 520, 528, 536, 544, 552, 560, 568, 576, 584, 592, 600, 608, 616, 624, 632, 640, 648, 656, 664, 672, 680, 688, 696, 704, 712, 720, 728, 736, 744, 752, 760, 768, 776, 784, 792, 800, 808, 816, 824, 832, 840, 848, 856, 864, 872, 880, 888, 896, 904, 912, 920, 928, 936, 944, 952, 960, 968, 976, 984, 992, 1000]\n"
     ]
    }
   ],
   "source": [
    "#write observation and code here\n",
    "divisible_by_8 = [num for num in range(1, 1001) \n",
    "                  if num % 8 == 0]\n",
    "print(divisible_by_8)\n"
   ]
  },
  {
   "cell_type": "markdown",
   "metadata": {},
   "source": [
    "### <span style='color:Blue'> **Question - 6.1.Count the number of spaces in a string.** </span>\n",
    "**Note:**Use list coprehension"
   ]
  },
  {
   "cell_type": "code",
   "execution_count": 29,
   "metadata": {},
   "outputs": [
    {
     "name": "stdout",
     "output_type": "stream",
     "text": [
      "6\n"
     ]
    }
   ],
   "source": [
    "#write observation and code here\n",
    "text = \"This is a sample string with spaces\"\n",
    "\n",
    "\n",
    "space_count = len([char for char in text if char == ' '])\n",
    "\n",
    "print( space_count)\n"
   ]
  },
  {
   "cell_type": "markdown",
   "metadata": {
    "colab_type": "text",
    "id": "iOS1kKjWf983"
   },
   "source": [
    "### <span style='color:Blue'> **Question - 7.Find all of the words in a string that are less than 5 letters.** </span>\n",
    "**Note:**Use list coprehension"
   ]
  },
  {
   "cell_type": "code",
   "execution_count": 31,
   "metadata": {
    "colab": {},
    "colab_type": "code",
    "id": "i87c8jfIjAVR"
   },
   "outputs": [
    {
     "name": "stdout",
     "output_type": "stream",
     "text": [
      "['5']\n"
     ]
    }
   ],
   "source": [
    "#write observation and code here\n",
    "text = \" 5 letters\"\n",
    "short_words = [word for word in text.split() if len(word) < 5]\n",
    "print(short_words)\n"
   ]
  },
  {
   "cell_type": "markdown",
   "metadata": {},
   "source": [
    "<a id=\"User_defined_function\"></a>\n",
    "## <span style='color:Brown'> **4. User defined function** </span>"
   ]
  },
  {
   "cell_type": "markdown",
   "metadata": {},
   "source": [
    "### <span style='color:Blue'> **Question - 8.Create a function in Python**</span>"
   ]
  },
  {
   "cell_type": "code",
   "execution_count": 42,
   "metadata": {},
   "outputs": [
    {
     "name": "stdout",
     "output_type": "stream",
     "text": [
      "Hello \n"
     ]
    }
   ],
   "source": [
    "#write observation and code here\n",
    "def my_function():\n",
    "  print(\"Hello \")\n",
    "\n",
    "my_function()\n"
   ]
  },
  {
   "cell_type": "markdown",
   "metadata": {},
   "source": [
    "### <span style='color:Blue'> **Question - 9.Write a program to create function calculation() such that it can accept two variables and calculate addition and subtraction. Also, it must return both addition and subtraction in a single return call.**</span>\n"
   ]
  },
  {
   "cell_type": "code",
   "execution_count": 41,
   "metadata": {},
   "outputs": [
    {
     "name": "stdout",
     "output_type": "stream",
     "text": [
      "Addition: 10 + 5 = 15\n",
      "Subtraction: 10 - 5 = 5\n"
     ]
    }
   ],
   "source": [
    "num1 = 10\n",
    "num2 = 5\n",
    "add_result, sub_result = calculation(num1, num2)\n",
    "\n",
    "print(f\"Addition: {num1} + {num2} = {add_result}\")\n",
    "print(f\"Subtraction: {num1} - {num2} = {sub_result}\")\n"
   ]
  },
  {
   "cell_type": "markdown",
   "metadata": {
    "colab_type": "text",
    "id": "IShIieCJf99f"
   },
   "source": [
    "<a id=\"Lambda_function\"></a>\n",
    "## <span style='color:Brown'> **5. Lambda function** </span>"
   ]
  },
  {
   "cell_type": "markdown",
   "metadata": {},
   "source": [
    "### <span style='color:Blue'> **Question - 10.Write a Python program to create a lambda function that adds 15 to a given number passed in as an argument.** </span>"
   ]
  },
  {
   "cell_type": "code",
   "execution_count": 38,
   "metadata": {
    "colab": {},
    "colab_type": "code",
    "id": "sv3wPchOjAVi"
   },
   "outputs": [
    {
     "name": "stdout",
     "output_type": "stream",
     "text": [
      "10 + 15 = 25\n"
     ]
    }
   ],
   "source": [
    "#write observation and code here\n",
    "number = 10\n",
    "result = add_15(number)\n",
    "print(f\"{number} + 15 = {result}\")\n"
   ]
  },
  {
   "cell_type": "markdown",
   "metadata": {},
   "source": [
    "### <span style='color:Blue'> **Question - 10.1.Write a Python program to square and cube every number in a given list of integers using Lambda.** </span>"
   ]
  },
  {
   "cell_type": "code",
   "execution_count": 33,
   "metadata": {},
   "outputs": [
    {
     "name": "stdout",
     "output_type": "stream",
     "text": [
      "Squared Numbers: [1, 4, 9, 16, 25]\n",
      "Cubed Numbers: [1, 8, 27, 64, 125]\n"
     ]
    }
   ],
   "source": [
    "#write observation and code here\n",
    "# Define a list of integers\n",
    "numbers = [1, 2, 3, 4, 5]\n",
    "\n",
    "# square list\n",
    "squared = list(map(lambda x: x**2, numbers))\n",
    "\n",
    "# cube list\n",
    "cubed = list(map(lambda x: x**3, numbers))\n",
    "\n",
    "print(\"Squared Numbers:\", squared)\n",
    "print(\"Cubed Numbers:\", cubed)\n",
    "\n"
   ]
  },
  {
   "cell_type": "markdown",
   "metadata": {},
   "source": [
    "# The End"
   ]
  }
 ],
 "metadata": {
  "colab": {
   "name": "ITP - In-Class Lab Exercise (Day 1) - Questions [v2.0 - 280420].ipynb",
   "provenance": []
  },
  "kernelspec": {
   "display_name": "Python 3 (ipykernel)",
   "language": "python",
   "name": "python3"
  },
  "language_info": {
   "codemirror_mode": {
    "name": "ipython",
    "version": 3
   },
   "file_extension": ".py",
   "mimetype": "text/x-python",
   "name": "python",
   "nbconvert_exporter": "python",
   "pygments_lexer": "ipython3",
   "version": "3.11.4"
  }
 },
 "nbformat": 4,
 "nbformat_minor": 1
}
