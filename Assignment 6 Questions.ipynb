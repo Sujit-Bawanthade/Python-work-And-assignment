{
 "cells": [
  {
   "cell_type": "markdown",
   "metadata": {
    "colab_type": "text",
    "id": "0yzl3MKzf98L"
   },
   "source": [
    "<img src=\"Fireblaze__2___3_-removebg-preview.png\" width=300 height=250 />"
   ]
  },
  {
   "cell_type": "markdown",
   "metadata": {
    "colab_type": "text",
    "id": "LFqGx_Dhf98M"
   },
   "source": [
    "## Table of Content\n",
    "\n",
    "1. **[Concatenate](#Concatenate)**\n",
    "2. **[Merge](#Merge)**\n",
    "3. **[Groupby](#Groupby)**\n",
    "4. **[Aggregate Function](#Aggregate_function)**\n",
    "5. **[Pivot & Pivot table ](#Pivot_&_Pivot_table)**\n",
    "6. **[Crosstab](#Crosstab)**\n",
    "7. **[Datetime module](#Datetime_module)**"
   ]
  },
  {
   "cell_type": "markdown",
   "metadata": {
    "colab_type": "text",
    "id": "psOYFu6zf98N"
   },
   "source": [
    "### Let's begin with some hands-on practice exercises"
   ]
  },
  {
   "cell_type": "markdown",
   "metadata": {
    "colab_type": "text",
    "id": "r4J-iIEhf98N"
   },
   "source": [
    "<a id=\"Concatenate\"> </a>\n",
    "## <span style='color:Brown'> **1. Concatenate** </span>"
   ]
  },
  {
   "cell_type": "markdown",
   "metadata": {},
   "source": [
    "### <span style='color:Blue'> **Question - 1.Create two DataFrame & concatenate them with respect to columns.** </span>"
   ]
  },
  {
   "cell_type": "code",
   "execution_count": 2,
   "metadata": {
    "colab": {},
    "colab_type": "code",
    "id": "TZatTfxJjAUr"
   },
   "outputs": [
    {
     "data": {
      "text/html": [
       "<div>\n",
       "<style scoped>\n",
       "    .dataframe tbody tr th:only-of-type {\n",
       "        vertical-align: middle;\n",
       "    }\n",
       "\n",
       "    .dataframe tbody tr th {\n",
       "        vertical-align: top;\n",
       "    }\n",
       "\n",
       "    .dataframe thead th {\n",
       "        text-align: right;\n",
       "    }\n",
       "</style>\n",
       "<table border=\"1\" class=\"dataframe\">\n",
       "  <thead>\n",
       "    <tr style=\"text-align: right;\">\n",
       "      <th></th>\n",
       "      <th>A</th>\n",
       "      <th>B</th>\n",
       "      <th>C</th>\n",
       "      <th>D</th>\n",
       "    </tr>\n",
       "  </thead>\n",
       "  <tbody>\n",
       "    <tr>\n",
       "      <th>0</th>\n",
       "      <td>1</td>\n",
       "      <td>4</td>\n",
       "      <td>7</td>\n",
       "      <td>10</td>\n",
       "    </tr>\n",
       "    <tr>\n",
       "      <th>1</th>\n",
       "      <td>2</td>\n",
       "      <td>5</td>\n",
       "      <td>8</td>\n",
       "      <td>11</td>\n",
       "    </tr>\n",
       "    <tr>\n",
       "      <th>2</th>\n",
       "      <td>3</td>\n",
       "      <td>6</td>\n",
       "      <td>9</td>\n",
       "      <td>12</td>\n",
       "    </tr>\n",
       "  </tbody>\n",
       "</table>\n",
       "</div>"
      ],
      "text/plain": [
       "   A  B  C   D\n",
       "0  1  4  7  10\n",
       "1  2  5  8  11\n",
       "2  3  6  9  12"
      ]
     },
     "execution_count": 2,
     "metadata": {},
     "output_type": "execute_result"
    }
   ],
   "source": [
    "#write observation and code here\n",
    "import pandas as pd\n",
    "\n",
    "data1 = {'A':[1,2,3],'B':[4,5,6]}\n",
    "df1 = pd.DataFrame(data1)\n",
    "data2 = {'C':[7,8,9],'D':[10,11,12]}\n",
    "df2 = pd.DataFrame(data2)\n",
    "concatenated_df = pd.concat([df1, df2], axis=1)\n",
    "concatenated_df"
   ]
  },
  {
   "cell_type": "markdown",
   "metadata": {},
   "source": [
    "### <span style='color:Blue'> **Question - 2.Concatenate above DataFrame with respect to row\".** </span>"
   ]
  },
  {
   "cell_type": "code",
   "execution_count": 3,
   "metadata": {
    "colab": {},
    "colab_type": "code",
    "id": "D6mdOlsSjAUw"
   },
   "outputs": [
    {
     "data": {
      "text/html": [
       "<div>\n",
       "<style scoped>\n",
       "    .dataframe tbody tr th:only-of-type {\n",
       "        vertical-align: middle;\n",
       "    }\n",
       "\n",
       "    .dataframe tbody tr th {\n",
       "        vertical-align: top;\n",
       "    }\n",
       "\n",
       "    .dataframe thead th {\n",
       "        text-align: right;\n",
       "    }\n",
       "</style>\n",
       "<table border=\"1\" class=\"dataframe\">\n",
       "  <thead>\n",
       "    <tr style=\"text-align: right;\">\n",
       "      <th></th>\n",
       "      <th>A</th>\n",
       "      <th>B</th>\n",
       "      <th>C</th>\n",
       "      <th>D</th>\n",
       "    </tr>\n",
       "  </thead>\n",
       "  <tbody>\n",
       "    <tr>\n",
       "      <th>0</th>\n",
       "      <td>1.0</td>\n",
       "      <td>4.0</td>\n",
       "      <td>NaN</td>\n",
       "      <td>NaN</td>\n",
       "    </tr>\n",
       "    <tr>\n",
       "      <th>1</th>\n",
       "      <td>2.0</td>\n",
       "      <td>5.0</td>\n",
       "      <td>NaN</td>\n",
       "      <td>NaN</td>\n",
       "    </tr>\n",
       "    <tr>\n",
       "      <th>2</th>\n",
       "      <td>3.0</td>\n",
       "      <td>6.0</td>\n",
       "      <td>NaN</td>\n",
       "      <td>NaN</td>\n",
       "    </tr>\n",
       "    <tr>\n",
       "      <th>0</th>\n",
       "      <td>NaN</td>\n",
       "      <td>NaN</td>\n",
       "      <td>7.0</td>\n",
       "      <td>10.0</td>\n",
       "    </tr>\n",
       "    <tr>\n",
       "      <th>1</th>\n",
       "      <td>NaN</td>\n",
       "      <td>NaN</td>\n",
       "      <td>8.0</td>\n",
       "      <td>11.0</td>\n",
       "    </tr>\n",
       "    <tr>\n",
       "      <th>2</th>\n",
       "      <td>NaN</td>\n",
       "      <td>NaN</td>\n",
       "      <td>9.0</td>\n",
       "      <td>12.0</td>\n",
       "    </tr>\n",
       "  </tbody>\n",
       "</table>\n",
       "</div>"
      ],
      "text/plain": [
       "     A    B    C     D\n",
       "0  1.0  4.0  NaN   NaN\n",
       "1  2.0  5.0  NaN   NaN\n",
       "2  3.0  6.0  NaN   NaN\n",
       "0  NaN  NaN  7.0  10.0\n",
       "1  NaN  NaN  8.0  11.0\n",
       "2  NaN  NaN  9.0  12.0"
      ]
     },
     "execution_count": 3,
     "metadata": {},
     "output_type": "execute_result"
    }
   ],
   "source": [
    "#write observation and code here\n",
    "data1 = {'A':[1,2,3],'B':[4,5,6]}\n",
    "df1 = pd.DataFrame(data1)\n",
    "data2 = {'C':[7,8,9],'D':[10,11,12]}\n",
    "df2 = pd.DataFrame(data2)\n",
    "concatenated_df = pd.concat([df1, df2])\n",
    "concatenated_df"
   ]
  },
  {
   "cell_type": "markdown",
   "metadata": {
    "colab_type": "text",
    "id": "QLSslfFdf98b"
   },
   "source": [
    "<a id=\"Merge\"> </a>\n",
    "## <span style='color:Brown'> **2. Merge** </span>"
   ]
  },
  {
   "cell_type": "markdown",
   "metadata": {},
   "source": [
    "### <span style='color:Blue'> **Question - 3.Create new two DataFrame & merge it using outer merge.** </span>"
   ]
  },
  {
   "cell_type": "code",
   "execution_count": 6,
   "metadata": {
    "colab": {},
    "colab_type": "code",
    "id": "G9tUhjLzjAU4"
   },
   "outputs": [
    {
     "data": {
      "text/html": [
       "<div>\n",
       "<style scoped>\n",
       "    .dataframe tbody tr th:only-of-type {\n",
       "        vertical-align: middle;\n",
       "    }\n",
       "\n",
       "    .dataframe tbody tr th {\n",
       "        vertical-align: top;\n",
       "    }\n",
       "\n",
       "    .dataframe thead th {\n",
       "        text-align: right;\n",
       "    }\n",
       "</style>\n",
       "<table border=\"1\" class=\"dataframe\">\n",
       "  <thead>\n",
       "    <tr style=\"text-align: right;\">\n",
       "      <th></th>\n",
       "      <th>key</th>\n",
       "      <th>Value1</th>\n",
       "      <th>Value</th>\n",
       "    </tr>\n",
       "  </thead>\n",
       "  <tbody>\n",
       "    <tr>\n",
       "      <th>0</th>\n",
       "      <td>A</td>\n",
       "      <td>1.0</td>\n",
       "      <td>NaN</td>\n",
       "    </tr>\n",
       "    <tr>\n",
       "      <th>1</th>\n",
       "      <td>B</td>\n",
       "      <td>2.0</td>\n",
       "      <td>NaN</td>\n",
       "    </tr>\n",
       "    <tr>\n",
       "      <th>2</th>\n",
       "      <td>C</td>\n",
       "      <td>3.0</td>\n",
       "      <td>5.0</td>\n",
       "    </tr>\n",
       "    <tr>\n",
       "      <th>3</th>\n",
       "      <td>D</td>\n",
       "      <td>4.0</td>\n",
       "      <td>6.0</td>\n",
       "    </tr>\n",
       "    <tr>\n",
       "      <th>4</th>\n",
       "      <td>E</td>\n",
       "      <td>NaN</td>\n",
       "      <td>7.0</td>\n",
       "    </tr>\n",
       "    <tr>\n",
       "      <th>5</th>\n",
       "      <td>F</td>\n",
       "      <td>NaN</td>\n",
       "      <td>8.0</td>\n",
       "    </tr>\n",
       "  </tbody>\n",
       "</table>\n",
       "</div>"
      ],
      "text/plain": [
       "  key  Value1  Value\n",
       "0   A     1.0    NaN\n",
       "1   B     2.0    NaN\n",
       "2   C     3.0    5.0\n",
       "3   D     4.0    6.0\n",
       "4   E     NaN    7.0\n",
       "5   F     NaN    8.0"
      ]
     },
     "execution_count": 6,
     "metadata": {},
     "output_type": "execute_result"
    }
   ],
   "source": [
    "#write observation and code here\n",
    "data3 = {'key':['A','B','C','D'],'Value1':[1,2,3,4]}\n",
    "df1 = pd.DataFrame(data3)\n",
    "data4 = {'key':['C','D','E','F'],'Value':[5,6,7,8]}\n",
    "df2 = pd.DataFrame(data4)\n",
    "\n",
    "merged_df = pd.merge(df1,df2,on='key' ,how='outer')\n",
    "merged_df"
   ]
  },
  {
   "cell_type": "markdown",
   "metadata": {
    "colab_type": "text",
    "id": "OL9cj_rRf983"
   },
   "source": [
    "<a id=\"Groupby\"></a>\n",
    "## <span style='color:Brown'> **3. Groupby** </span>"
   ]
  },
  {
   "cell_type": "markdown",
   "metadata": {},
   "source": [
    "### <span style='color:Blue'> **Question - 4. Create a new DataFrame & Give some example to show how to make a groups.** </span>"
   ]
  },
  {
   "cell_type": "code",
   "execution_count": 9,
   "metadata": {},
   "outputs": [
    {
     "name": "stdout",
     "output_type": "stream",
     "text": [
      "              Value\n",
      "Category           \n",
      "A         12.333333\n",
      "B         22.500000\n",
      "C         30.000000\n",
      "Category\n",
      "A    3\n",
      "B    2\n",
      "C    1\n",
      "dtype: int64\n"
     ]
    }
   ],
   "source": [
    "#write observation and code here\n",
    "data = {'Category': ['A', 'B', 'A', 'B', 'A', 'C'],'Value': [10, 20, 15, 25, 12, 30]}\n",
    "df = pd.DataFrame(data)\n",
    "grouped = df.groupby('Category')\n",
    "\n",
    "\n",
    "# Example: Calculate the mean value for each group\n",
    "mean_values = grouped.mean()\n",
    "print(mean_values)\n",
    "\n",
    "# Example: Get the size of each group\n",
    "group_sizes = grouped.size()\n",
    "print(group_sizes)\n",
    "\n"
   ]
  },
  {
   "cell_type": "code",
   "execution_count": 10,
   "metadata": {},
   "outputs": [
    {
     "name": "stdout",
     "output_type": "stream",
     "text": [
      "Group: A\n",
      "  Category  Value\n",
      "0        A     10\n",
      "2        A     15\n",
      "4        A     12\n",
      "\n",
      "Group: B\n",
      "  Category  Value\n",
      "1        B     20\n",
      "3        B     25\n",
      "\n",
      "Group: C\n",
      "  Category  Value\n",
      "5        C     30\n",
      "\n"
     ]
    }
   ],
   "source": [
    "# Example: Iterate through the groups and display their contents\n",
    "for group_name, group_data in grouped:\n",
    "    print(f'Group: {group_name}')\n",
    "    print(group_data)\n",
    "    print()\n"
   ]
  },
  {
   "cell_type": "markdown",
   "metadata": {},
   "source": [
    "<a id=\"Aggregate_function\"></a>\n",
    "## <span style='color:Brown'> **4. Aggregate Function** </span>"
   ]
  },
  {
   "cell_type": "markdown",
   "metadata": {},
   "source": [
    "### <span style='color:Blue'> **Question - 5.Perform aggregate function on above created groups**</span>"
   ]
  },
  {
   "cell_type": "code",
   "execution_count": 11,
   "metadata": {},
   "outputs": [
    {
     "name": "stdout",
     "output_type": "stream",
     "text": [
      "              Value                  \n",
      "               mean sum min max count\n",
      "Category                             \n",
      "A         12.333333  37  10  15     3\n",
      "B         22.500000  45  20  25     2\n",
      "C         30.000000  30  30  30     1\n"
     ]
    }
   ],
   "source": [
    "#write observation and code here\n",
    "import pandas as pd\n",
    "\n",
    "data = {'Category': ['A', 'B', 'A', 'B', 'A', 'C'],'Value': [10, 20, 15, 25, 12, 30]}\n",
    "df = pd.DataFrame(data)\n",
    "\n",
    "grouped = df.groupby('Category')\n",
    "\n",
    "# aggregate functions on the groups\n",
    "aggregate_result = grouped.agg({'Value': ['mean', 'sum', 'min', 'max', 'count']\n",
    "})\n",
    "\n",
    "print(aggregate_result)\n"
   ]
  },
  {
   "cell_type": "markdown",
   "metadata": {
    "colab_type": "text",
    "id": "IShIieCJf99f"
   },
   "source": [
    "<a id=\"Pivot_&_Pivot_table\"></a>\n",
    "## <span style='color:Brown'> **5. Pivot & Pivot Table** </span>"
   ]
  },
  {
   "cell_type": "markdown",
   "metadata": {},
   "source": [
    "### <span style='color:Blue'> **Question - 6.Load any one dataset from seaborn & Show how to use pivot function .** </span>"
   ]
  },
  {
   "cell_type": "code",
   "execution_count": 20,
   "metadata": {
    "colab": {},
    "colab_type": "code",
    "id": "sv3wPchOjAVi"
   },
   "outputs": [
    {
     "name": "stdout",
     "output_type": "stream",
     "text": [
      "Original Titanic Dataset:\n",
      "   survived  pclass     sex   age  sibsp  parch     fare embarked  class  \\\n",
      "0         0       3    male  22.0      1      0   7.2500        S  Third   \n",
      "1         1       1  female  38.0      1      0  71.2833        C  First   \n",
      "2         1       3  female  26.0      0      0   7.9250        S  Third   \n",
      "3         1       1  female  35.0      1      0  53.1000        S  First   \n",
      "4         0       3    male  35.0      0      0   8.0500        S  Third   \n",
      "\n",
      "     who  adult_male deck  embark_town alive  alone  \n",
      "0    man        True  NaN  Southampton    no  False  \n",
      "1  woman       False    C    Cherbourg   yes  False  \n",
      "2  woman       False  NaN  Southampton   yes   True  \n",
      "3  woman       False    C  Southampton   yes  False  \n",
      "4    man        True  NaN  Southampton    no   True  \n"
     ]
    }
   ],
   "source": [
    "#write observation and code here\n",
    "import seaborn as sns\n",
    "import pandas as pd\n",
    "\n",
    "# Load the Titanic dataset from Seaborn\n",
    "titanic = sns.load_dataset('titanic')\n",
    "\n",
    "# Display a few rows of the original dataset\n",
    "print(\"Original Titanic Dataset:\")\n",
    "print(titanic.head())\n"
   ]
  },
  {
   "cell_type": "code",
   "execution_count": 19,
   "metadata": {},
   "outputs": [
    {
     "name": "stdout",
     "output_type": "stream",
     "text": [
      "Original Flights Dataset:\n",
      "   year month  passengers\n",
      "0  1949   Jan         112\n",
      "1  1949   Feb         118\n",
      "2  1949   Mar         132\n",
      "3  1949   Apr         129\n",
      "4  1949   May         121\n",
      "\n",
      "Pivoted Flights Dataset:\n",
      "year   1949  1950  1951  1952  1953  1954  1955  1956  1957  1958  1959  1960\n",
      "month                                                                        \n",
      "Jan     112   115   145   171   196   204   242   284   315   340   360   417\n",
      "Feb     118   126   150   180   196   188   233   277   301   318   342   391\n",
      "Mar     132   141   178   193   236   235   267   317   356   362   406   419\n",
      "Apr     129   135   163   181   235   227   269   313   348   348   396   461\n",
      "May     121   125   172   183   229   234   270   318   355   363   420   472\n",
      "Jun     135   149   178   218   243   264   315   374   422   435   472   535\n",
      "Jul     148   170   199   230   264   302   364   413   465   491   548   622\n",
      "Aug     148   170   199   242   272   293   347   405   467   505   559   606\n",
      "Sep     136   158   184   209   237   259   312   355   404   404   463   508\n",
      "Oct     119   133   162   191   211   229   274   306   347   359   407   461\n",
      "Nov     104   114   146   172   180   203   237   271   305   310   362   390\n",
      "Dec     118   140   166   194   201   229   278   306   336   337   405   432\n"
     ]
    }
   ],
   "source": [
    "# Load the \"flights\" dataset from Seaborn\n",
    "flights = sns.load_dataset('flights')\n",
    "\n",
    "# Display a few rows of the original dataset\n",
    "print(\"Original Flights Dataset:\")\n",
    "print(flights.head())\n",
    "\n",
    "# Use the pivot function to pivot the dataset\n",
    "pivot_result = flights.pivot(index='month', columns='year', values='passengers')\n",
    "\n",
    "print(\"\\nPivoted Flights Dataset:\")\n",
    "print(pivot_result)"
   ]
  },
  {
   "cell_type": "markdown",
   "metadata": {},
   "source": [
    "### <span style='color:Blue'> **Question - 7.Load any one dataset from seaborn & Show how to use pivot table function .** </span>"
   ]
  },
  {
   "cell_type": "code",
   "execution_count": 21,
   "metadata": {},
   "outputs": [
    {
     "name": "stdout",
     "output_type": "stream",
     "text": [
      "Original Flights Dataset:\n",
      "   year month  passengers\n",
      "0  1949   Jan         112\n",
      "1  1949   Feb         118\n",
      "2  1949   Mar         132\n",
      "3  1949   Apr         129\n",
      "4  1949   May         121\n",
      "\n",
      "Pivot Table Result (Total Passengers):\n",
      "year   1949  1950  1951  1952  1953  1954  1955  1956  1957  1958  1959  1960\n",
      "month                                                                        \n",
      "Jan     112   115   145   171   196   204   242   284   315   340   360   417\n",
      "Feb     118   126   150   180   196   188   233   277   301   318   342   391\n",
      "Mar     132   141   178   193   236   235   267   317   356   362   406   419\n",
      "Apr     129   135   163   181   235   227   269   313   348   348   396   461\n",
      "May     121   125   172   183   229   234   270   318   355   363   420   472\n",
      "Jun     135   149   178   218   243   264   315   374   422   435   472   535\n",
      "Jul     148   170   199   230   264   302   364   413   465   491   548   622\n",
      "Aug     148   170   199   242   272   293   347   405   467   505   559   606\n",
      "Sep     136   158   184   209   237   259   312   355   404   404   463   508\n",
      "Oct     119   133   162   191   211   229   274   306   347   359   407   461\n",
      "Nov     104   114   146   172   180   203   237   271   305   310   362   390\n",
      "Dec     118   140   166   194   201   229   278   306   336   337   405   432\n"
     ]
    }
   ],
   "source": [
    "flights = sns.load_dataset('flights')\n",
    "\n",
    "# Display a few rows of the original dataset\n",
    "print(\"Original Flights Dataset:\")\n",
    "print(flights.head())\n",
    "\n",
    "# Use the pivot_table function to pivot and aggregate the dataset\n",
    "pivot_table_result = pd.pivot_table(flights, values='passengers', index='month', columns='year', aggfunc='sum')\n",
    "\n",
    "\n",
    "print(\"\\nPivot Table Result (Total Passengers):\")\n",
    "print(pivot_table_result)"
   ]
  },
  {
   "cell_type": "markdown",
   "metadata": {},
   "source": [
    "<a id=\"Crosstab\"></a>\n",
    "## <span style='color:Brown'> **6. Crosstab** </span>"
   ]
  },
  {
   "cell_type": "markdown",
   "metadata": {},
   "source": [
    "### <span style='color:Blue'> **Question - 8.Write a code & show how to use crosstab function.** </span>"
   ]
  },
  {
   "cell_type": "code",
   "execution_count": 22,
   "metadata": {},
   "outputs": [
    {
     "name": "stdout",
     "output_type": "stream",
     "text": [
      "Age Group  Adult  Senior  Young  Total\n",
      "Gender                                \n",
      "Female      12.0     NaN   15.0     27\n",
      "Male        20.0     8.0   10.0     38\n",
      "Total       32.0     8.0   25.0     65\n"
     ]
    }
   ],
   "source": [
    "#write observation and code here\n",
    "import pandas as pd\n",
    "\n",
    "# Create a sample DataFrame\n",
    "data = {'Gender': ['Male', 'Female', 'Male', 'Female', 'Male'],'Age Group': ['Young', 'Young', 'Adult', 'Adult', 'Senior'],'Count': [10, 15, 20, 12, 8]}\n",
    "\n",
    "df = pd.DataFrame(data)\n",
    "cross_tabulation = pd.crosstab(df['Gender'], df['Age Group'], values=df['Count'], aggfunc='sum', margins=True, margins_name='Total')\n",
    "print(cross_tabulation)\n"
   ]
  },
  {
   "cell_type": "markdown",
   "metadata": {},
   "source": [
    "<a id=\"Datetime_module\"></a>\n",
    "## <span style='color:Brown'> **7. Datetime_module** </span>"
   ]
  },
  {
   "cell_type": "markdown",
   "metadata": {},
   "source": [
    "### <span style='color:Blue'> **Question - 9.Display the current date & time.** </span>\n"
   ]
  },
  {
   "cell_type": "code",
   "execution_count": 25,
   "metadata": {},
   "outputs": [
    {
     "name": "stdout",
     "output_type": "stream",
     "text": [
      "Current Date and Time: 2023-10-04 21:33:12.118886\n"
     ]
    }
   ],
   "source": [
    "#write observation and code here\n",
    "import datetime\n",
    "\n",
    "\n",
    "current_datetime = datetime.datetime.now()\n",
    "print(\"Current Date and Time:\", current_datetime)"
   ]
  },
  {
   "cell_type": "markdown",
   "metadata": {},
   "source": [
    "### <span style='color:Blue'> **Question - 10.Write a programme to create a range of date & then convert it into DataFrame.** </span>\n"
   ]
  },
  {
   "cell_type": "code",
   "execution_count": 26,
   "metadata": {},
   "outputs": [
    {
     "name": "stdout",
     "output_type": "stream",
     "text": [
      "         Date\n",
      "0  2023-01-01\n",
      "1  2023-01-02\n",
      "2  2023-01-03\n",
      "3  2023-01-04\n",
      "4  2023-01-05\n",
      "5  2023-01-06\n",
      "6  2023-01-07\n",
      "7  2023-01-08\n",
      "8  2023-01-09\n",
      "9  2023-01-10\n"
     ]
    }
   ],
   "source": [
    "#write observation and code here\n",
    "import pandas as pd\n",
    "import datetime\n",
    "\n",
    "\n",
    "start_date = datetime.date(2023, 1, 1)\n",
    "end_date = datetime.date(2023, 1, 10)\n",
    "date_range = [start_date + datetime.timedelta(days=x) for x in range((end_date - start_date).days + 1)]\n",
    "\n",
    "\n",
    "df = pd.DataFrame({'Date': date_range})\n",
    "\n",
    "print(df)\n"
   ]
  },
  {
   "cell_type": "markdown",
   "metadata": {},
   "source": [
    "# The End"
   ]
  }
 ],
 "metadata": {
  "colab": {
   "name": "ITP - In-Class Lab Exercise (Day 1) - Questions [v2.0 - 280420].ipynb",
   "provenance": []
  },
  "kernelspec": {
   "display_name": "Python 3 (ipykernel)",
   "language": "python",
   "name": "python3"
  },
  "language_info": {
   "codemirror_mode": {
    "name": "ipython",
    "version": 3
   },
   "file_extension": ".py",
   "mimetype": "text/x-python",
   "name": "python",
   "nbconvert_exporter": "python",
   "pygments_lexer": "ipython3",
   "version": "3.11.4"
  }
 },
 "nbformat": 4,
 "nbformat_minor": 1
}
