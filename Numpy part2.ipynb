{
 "cells": [
  {
   "cell_type": "markdown",
   "id": "0c0ed8a9",
   "metadata": {},
   "source": [
    "### Arithmetic Expression3"
   ]
  },
  {
   "cell_type": "code",
   "execution_count": 2,
   "id": "cf97ce28",
   "metadata": {},
   "outputs": [],
   "source": [
    "import numpy as np"
   ]
  },
  {
   "cell_type": "code",
   "execution_count": 3,
   "id": "d7c3dae2",
   "metadata": {},
   "outputs": [],
   "source": [
    "arr1= np.arange(1,7).reshape(2,3)"
   ]
  },
  {
   "cell_type": "code",
   "execution_count": 4,
   "id": "47115236",
   "metadata": {},
   "outputs": [
    {
     "data": {
      "text/plain": [
       "array([[1, 2, 3],\n",
       "       [4, 5, 6]])"
      ]
     },
     "execution_count": 4,
     "metadata": {},
     "output_type": "execute_result"
    }
   ],
   "source": [
    "arr1"
   ]
  },
  {
   "cell_type": "code",
   "execution_count": 5,
   "id": "eb24f90c",
   "metadata": {},
   "outputs": [
    {
     "data": {
      "text/plain": [
       "array([[1, 4],\n",
       "       [2, 5],\n",
       "       [3, 6]])"
      ]
     },
     "execution_count": 5,
     "metadata": {},
     "output_type": "execute_result"
    }
   ],
   "source": [
    "arr1.T"
   ]
  },
  {
   "cell_type": "code",
   "execution_count": 6,
   "id": "0c417758",
   "metadata": {},
   "outputs": [
    {
     "data": {
      "text/plain": [
       "array([[1, 4],\n",
       "       [2, 5],\n",
       "       [3, 6]])"
      ]
     },
     "execution_count": 6,
     "metadata": {},
     "output_type": "execute_result"
    }
   ],
   "source": [
    "arr2 = arr1.T\n",
    "arr2"
   ]
  },
  {
   "cell_type": "code",
   "execution_count": 7,
   "id": "2a9da9e0",
   "metadata": {},
   "outputs": [
    {
     "data": {
      "text/plain": [
       "array([[14, 32],\n",
       "       [32, 77]])"
      ]
     },
     "execution_count": 7,
     "metadata": {},
     "output_type": "execute_result"
    }
   ],
   "source": [
    "arr1@arr2 #dot product"
   ]
  },
  {
   "cell_type": "code",
   "execution_count": 8,
   "id": "77cbb977",
   "metadata": {},
   "outputs": [
    {
     "data": {
      "text/plain": [
       "array([[14, 32],\n",
       "       [32, 77]])"
      ]
     },
     "execution_count": 8,
     "metadata": {},
     "output_type": "execute_result"
    }
   ],
   "source": [
    "np.dot(arr1,arr2)"
   ]
  },
  {
   "cell_type": "code",
   "execution_count": 9,
   "id": "892fcd36",
   "metadata": {},
   "outputs": [
    {
     "data": {
      "text/plain": [
       "array([[1, 2, 3],\n",
       "       [4, 5, 6],\n",
       "       [7, 8, 9]])"
      ]
     },
     "execution_count": 9,
     "metadata": {},
     "output_type": "execute_result"
    }
   ],
   "source": [
    "arr3 = np.arange(1,10).reshape(3,3)\n",
    "arr3"
   ]
  },
  {
   "cell_type": "code",
   "execution_count": null,
   "id": "21714ce1",
   "metadata": {},
   "outputs": [],
   "source": []
  },
  {
   "cell_type": "markdown",
   "id": "5df8a0d8",
   "metadata": {},
   "source": [
    "### Square root of the array!`3"
   ]
  },
  {
   "cell_type": "code",
   "execution_count": 10,
   "id": "7ea6c902",
   "metadata": {},
   "outputs": [
    {
     "data": {
      "text/plain": [
       "array([[1.        , 1.41421356, 1.73205081],\n",
       "       [2.        , 2.23606798, 2.44948974],\n",
       "       [2.64575131, 2.82842712, 3.        ]])"
      ]
     },
     "execution_count": 10,
     "metadata": {},
     "output_type": "execute_result"
    }
   ],
   "source": [
    "np.sqrt(arr3)"
   ]
  },
  {
   "cell_type": "code",
   "execution_count": 11,
   "id": "eb46daf2",
   "metadata": {},
   "outputs": [
    {
     "data": {
      "text/plain": [
       "array([[1.        , 2.        ],\n",
       "       [1.41421356, 2.23606798],\n",
       "       [1.73205081, 2.44948974]])"
      ]
     },
     "execution_count": 11,
     "metadata": {},
     "output_type": "execute_result"
    }
   ],
   "source": [
    "np.sqrt(arr2)"
   ]
  },
  {
   "cell_type": "code",
   "execution_count": 12,
   "id": "9428bdba",
   "metadata": {},
   "outputs": [
    {
     "data": {
      "text/plain": [
       "array([[2.71828183e+00, 7.38905610e+00, 2.00855369e+01],\n",
       "       [5.45981500e+01, 1.48413159e+02, 4.03428793e+02],\n",
       "       [1.09663316e+03, 2.98095799e+03, 8.10308393e+03]])"
      ]
     },
     "execution_count": 12,
     "metadata": {},
     "output_type": "execute_result"
    }
   ],
   "source": [
    "#exp Function\n",
    "np.exp(arr3)"
   ]
  },
  {
   "cell_type": "code",
   "execution_count": 13,
   "id": "506f9f55",
   "metadata": {},
   "outputs": [],
   "source": [
    "arr4 = np.array([11,33,55,77,99])\n",
    "arr5 = np.array([22,44,66,88])"
   ]
  },
  {
   "cell_type": "code",
   "execution_count": 14,
   "id": "d940457c",
   "metadata": {},
   "outputs": [
    {
     "data": {
      "text/plain": [
       "array([11, 33, 55, 77, 99])"
      ]
     },
     "execution_count": 14,
     "metadata": {},
     "output_type": "execute_result"
    }
   ],
   "source": [
    "arr4"
   ]
  },
  {
   "cell_type": "code",
   "execution_count": 15,
   "id": "e6cf80c0",
   "metadata": {},
   "outputs": [
    {
     "data": {
      "text/plain": [
       "array([22, 44, 66, 88])"
      ]
     },
     "execution_count": 15,
     "metadata": {},
     "output_type": "execute_result"
    }
   ],
   "source": [
    "arr5"
   ]
  },
  {
   "cell_type": "code",
   "execution_count": 16,
   "id": "e070104b",
   "metadata": {},
   "outputs": [
    {
     "data": {
      "text/plain": [
       "99"
      ]
     },
     "execution_count": 16,
     "metadata": {},
     "output_type": "execute_result"
    }
   ],
   "source": [
    "arr4.max()"
   ]
  },
  {
   "cell_type": "code",
   "execution_count": 17,
   "id": "4b28b1b3",
   "metadata": {},
   "outputs": [
    {
     "data": {
      "text/plain": [
       "11"
      ]
     },
     "execution_count": 17,
     "metadata": {},
     "output_type": "execute_result"
    }
   ],
   "source": [
    "arr4.min()"
   ]
  },
  {
   "cell_type": "code",
   "execution_count": 18,
   "id": "0b26d6e1",
   "metadata": {},
   "outputs": [
    {
     "data": {
      "text/plain": [
       "22"
      ]
     },
     "execution_count": 18,
     "metadata": {},
     "output_type": "execute_result"
    }
   ],
   "source": [
    "arr5.min()"
   ]
  },
  {
   "cell_type": "code",
   "execution_count": 19,
   "id": "969b3221",
   "metadata": {},
   "outputs": [
    {
     "data": {
      "text/plain": [
       "88"
      ]
     },
     "execution_count": 19,
     "metadata": {},
     "output_type": "execute_result"
    }
   ],
   "source": [
    "arr5.max()"
   ]
  },
  {
   "cell_type": "code",
   "execution_count": 24,
   "id": "5b16ea8d",
   "metadata": {},
   "outputs": [],
   "source": [
    "mse1 = np.array([11,2,16,11,5,30])\n",
    "mse2 = np.array([15,7,8,10,1,21])"
   ]
  },
  {
   "cell_type": "code",
   "execution_count": 26,
   "id": "b5b61d21",
   "metadata": {},
   "outputs": [
    {
     "data": {
      "text/plain": [
       "30"
      ]
     },
     "execution_count": 26,
     "metadata": {},
     "output_type": "execute_result"
    }
   ],
   "source": [
    "mse1.max()"
   ]
  },
  {
   "cell_type": "code",
   "execution_count": 27,
   "id": "fc11aadf",
   "metadata": {},
   "outputs": [
    {
     "data": {
      "text/plain": [
       "21"
      ]
     },
     "execution_count": 27,
     "metadata": {},
     "output_type": "execute_result"
    }
   ],
   "source": [
    "mse2.max()"
   ]
  },
  {
   "cell_type": "code",
   "execution_count": 28,
   "id": "9a6790df",
   "metadata": {},
   "outputs": [
    {
     "data": {
      "text/plain": [
       "array([15,  7, 16, 11,  5, 30])"
      ]
     },
     "execution_count": 28,
     "metadata": {},
     "output_type": "execute_result"
    }
   ],
   "source": [
    "np.maximum(mse1,mse2)"
   ]
  },
  {
   "cell_type": "code",
   "execution_count": 29,
   "id": "66251719",
   "metadata": {},
   "outputs": [
    {
     "data": {
      "text/plain": [
       "array([11,  2,  8, 10,  1, 21])"
      ]
     },
     "execution_count": 29,
     "metadata": {},
     "output_type": "execute_result"
    }
   ],
   "source": [
    "np.minimum(mse1,mse2)"
   ]
  },
  {
   "cell_type": "code",
   "execution_count": 30,
   "id": "7427be75",
   "metadata": {},
   "outputs": [
    {
     "data": {
      "text/plain": [
       "array([[1, 2, 3],\n",
       "       [4, 5, 6]])"
      ]
     },
     "execution_count": 30,
     "metadata": {},
     "output_type": "execute_result"
    }
   ],
   "source": [
    "arr1"
   ]
  },
  {
   "cell_type": "code",
   "execution_count": 31,
   "id": "071a95c8",
   "metadata": {},
   "outputs": [
    {
     "data": {
      "text/plain": [
       "array([[1, 2, 3],\n",
       "       [4, 5, 6],\n",
       "       [7, 8, 9]])"
      ]
     },
     "execution_count": 31,
     "metadata": {},
     "output_type": "execute_result"
    }
   ],
   "source": [
    "arr3"
   ]
  },
  {
   "cell_type": "code",
   "execution_count": 32,
   "id": "bebcd1da",
   "metadata": {},
   "outputs": [
    {
     "data": {
      "text/plain": [
       "5.0"
      ]
     },
     "execution_count": 32,
     "metadata": {},
     "output_type": "execute_result"
    }
   ],
   "source": [
    "arr3.mean()"
   ]
  },
  {
   "cell_type": "code",
   "execution_count": 33,
   "id": "76144f53",
   "metadata": {},
   "outputs": [
    {
     "data": {
      "text/plain": [
       "45"
      ]
     },
     "execution_count": 33,
     "metadata": {},
     "output_type": "execute_result"
    }
   ],
   "source": [
    "arr3.sum()"
   ]
  },
  {
   "cell_type": "code",
   "execution_count": 34,
   "id": "02a3f8a0",
   "metadata": {},
   "outputs": [
    {
     "data": {
      "text/plain": [
       "array([12, 15, 18])"
      ]
     },
     "execution_count": 34,
     "metadata": {},
     "output_type": "execute_result"
    }
   ],
   "source": [
    "arr3.sum(0)# 0 is for vertical operation of Function in numpy."
   ]
  },
  {
   "cell_type": "code",
   "execution_count": 35,
   "id": "cf485f45",
   "metadata": {},
   "outputs": [
    {
     "data": {
      "text/plain": [
       "array([4., 5., 6.])"
      ]
     },
     "execution_count": 35,
     "metadata": {},
     "output_type": "execute_result"
    }
   ],
   "source": [
    "arr3.mean(0)"
   ]
  },
  {
   "cell_type": "code",
   "execution_count": 36,
   "id": "9226c443",
   "metadata": {},
   "outputs": [
    {
     "data": {
      "text/plain": [
       "array([ 6, 15, 24])"
      ]
     },
     "execution_count": 36,
     "metadata": {},
     "output_type": "execute_result"
    }
   ],
   "source": [
    "arr3.sum(1)# 1 is for horizental operation of Function in numpy."
   ]
  },
  {
   "cell_type": "code",
   "execution_count": 38,
   "id": "b347119f",
   "metadata": {},
   "outputs": [
    {
     "data": {
      "text/plain": [
       "array([2., 5., 8.])"
      ]
     },
     "execution_count": 38,
     "metadata": {},
     "output_type": "execute_result"
    }
   ],
   "source": [
    "arr3.mean(1)"
   ]
  },
  {
   "cell_type": "code",
   "execution_count": 39,
   "id": "d3fe48f8",
   "metadata": {},
   "outputs": [
    {
     "data": {
      "text/plain": [
       "array([[ 2,  4,  6],\n",
       "       [ 8, 10, 12]])"
      ]
     },
     "execution_count": 39,
     "metadata": {},
     "output_type": "execute_result"
    }
   ],
   "source": [
    "np.add(arr1,arr1)"
   ]
  },
  {
   "cell_type": "code",
   "execution_count": null,
   "id": "546d5080",
   "metadata": {},
   "outputs": [],
   "source": []
  },
  {
   "cell_type": "code",
   "execution_count": null,
   "id": "a06f8975",
   "metadata": {},
   "outputs": [],
   "source": []
  },
  {
   "cell_type": "markdown",
   "id": "f5442af8",
   "metadata": {},
   "source": [
    "### Random Module3"
   ]
  },
  {
   "cell_type": "code",
   "execution_count": 40,
   "id": "1d2a71e2",
   "metadata": {},
   "outputs": [],
   "source": [
    "import numpy as np"
   ]
  },
  {
   "cell_type": "code",
   "execution_count": 41,
   "id": "6faae9bd",
   "metadata": {},
   "outputs": [
    {
     "data": {
      "text/plain": [
       "array([ 8, 93, 48, 81, 16, 24, 99, 20, 82, 98])"
      ]
     },
     "execution_count": 41,
     "metadata": {},
     "output_type": "execute_result"
    }
   ],
   "source": [
    "np.random.randint(1,101,size =10)"
   ]
  },
  {
   "cell_type": "code",
   "execution_count": 42,
   "id": "9dc99843",
   "metadata": {},
   "outputs": [
    {
     "data": {
      "text/plain": [
       "array([83, 85, 28, 88, 63, 58,  7, 27, 67, 99])"
      ]
     },
     "execution_count": 42,
     "metadata": {},
     "output_type": "execute_result"
    }
   ],
   "source": [
    "np.random.randint(1,101,10)"
   ]
  },
  {
   "cell_type": "code",
   "execution_count": 43,
   "id": "4bc6fc34",
   "metadata": {},
   "outputs": [],
   "source": [
    "from numpy.random import randint"
   ]
  },
  {
   "cell_type": "code",
   "execution_count": 44,
   "id": "a0333992",
   "metadata": {},
   "outputs": [
    {
     "data": {
      "text/plain": [
       "array([ 1, 36,  6, 45, 26, 41, 22, 30, 45, 24])"
      ]
     },
     "execution_count": 44,
     "metadata": {},
     "output_type": "execute_result"
    }
   ],
   "source": [
    "randint(1,51,10)"
   ]
  },
  {
   "cell_type": "code",
   "execution_count": 45,
   "id": "ec026635",
   "metadata": {},
   "outputs": [],
   "source": [
    "from numpy. random import randn"
   ]
  },
  {
   "cell_type": "code",
   "execution_count": 49,
   "id": "cb1da874",
   "metadata": {},
   "outputs": [
    {
     "data": {
      "text/plain": [
       "array([-0.4619436 , -0.70813294, -0.6209872 , -0.37923714,  0.50113548,\n",
       "       -0.17051553,  0.69769916,  0.35660211,  0.05582753,  0.005475  ])"
      ]
     },
     "execution_count": 49,
     "metadata": {},
     "output_type": "execute_result"
    }
   ],
   "source": [
    "randn(10)"
   ]
  },
  {
   "cell_type": "code",
   "execution_count": 50,
   "id": "abcb68df",
   "metadata": {},
   "outputs": [
    {
     "data": {
      "text/plain": [
       "array([[ 0.60807261, -0.09482885, -0.77713942],\n",
       "       [ 1.2027305 , -1.30562948,  0.37769886]])"
      ]
     },
     "execution_count": 50,
     "metadata": {},
     "output_type": "execute_result"
    }
   ],
   "source": [
    "randn(2,3)"
   ]
  },
  {
   "cell_type": "code",
   "execution_count": null,
   "id": "9d7c8c23",
   "metadata": {},
   "outputs": [],
   "source": []
  },
  {
   "cell_type": "markdown",
   "id": "57173338",
   "metadata": {},
   "source": [
    "### Where 3"
   ]
  },
  {
   "cell_type": "code",
   "execution_count": 51,
   "id": "e72656de",
   "metadata": {},
   "outputs": [],
   "source": [
    "import numpy as np"
   ]
  },
  {
   "cell_type": "code",
   "execution_count": 68,
   "id": "f67ac80a",
   "metadata": {},
   "outputs": [],
   "source": [
    "A = np.array([1,2,3])\n",
    "B = np.array([10,20,30])\n",
    "C = np.array([True,False,True])\n"
   ]
  },
  {
   "cell_type": "code",
   "execution_count": 69,
   "id": "50db4af0",
   "metadata": {},
   "outputs": [
    {
     "name": "stdout",
     "output_type": "stream",
     "text": [
      "[1 2 3]\n",
      "[10 20 30]\n",
      "[ True False  True]\n"
     ]
    }
   ],
   "source": [
    "print(A)\n",
    "print(B)\n",
    "print(C)"
   ]
  },
  {
   "cell_type": "code",
   "execution_count": 70,
   "id": "a6bb5cc8",
   "metadata": {},
   "outputs": [
    {
     "data": {
      "text/plain": [
       "array([ 1, 20,  3])"
      ]
     },
     "execution_count": 70,
     "metadata": {},
     "output_type": "execute_result"
    }
   ],
   "source": [
    "#np.Where(Condition , if True, If False)\n",
    "np.where(C,A,B)"
   ]
  },
  {
   "cell_type": "code",
   "execution_count": 71,
   "id": "5c9417b1",
   "metadata": {},
   "outputs": [],
   "source": [
    "A = np.array([1,2,3])\n",
    "B = np.array([10,20,30])\n",
    "C = np.array([False,False,False])\n"
   ]
  },
  {
   "cell_type": "code",
   "execution_count": 72,
   "id": "561da5b2",
   "metadata": {},
   "outputs": [
    {
     "data": {
      "text/plain": [
       "array([10, 20, 30])"
      ]
     },
     "execution_count": 72,
     "metadata": {},
     "output_type": "execute_result"
    }
   ],
   "source": [
    "np.where(C,A,B)"
   ]
  },
  {
   "cell_type": "code",
   "execution_count": 76,
   "id": "343e27bb",
   "metadata": {},
   "outputs": [
    {
     "data": {
      "text/plain": [
       "array([10, 20, 30])"
      ]
     },
     "execution_count": 76,
     "metadata": {},
     "output_type": "execute_result"
    }
   ],
   "source": [
    "np.where(C,B,A)"
   ]
  },
  {
   "cell_type": "code",
   "execution_count": 73,
   "id": "e8b704bf",
   "metadata": {},
   "outputs": [],
   "source": [
    "A = np.array([1,2,3])\n",
    "B = np.array([10,20,30])\n",
    "C = np.array([True,True,True])\n"
   ]
  },
  {
   "cell_type": "code",
   "execution_count": 75,
   "id": "7952b98f",
   "metadata": {},
   "outputs": [
    {
     "data": {
      "text/plain": [
       "array([10, 20, 30])"
      ]
     },
     "execution_count": 75,
     "metadata": {},
     "output_type": "execute_result"
    }
   ],
   "source": [
    "np.where(C,B,A)"
   ]
  },
  {
   "cell_type": "code",
   "execution_count": 77,
   "id": "9ce7decf",
   "metadata": {},
   "outputs": [
    {
     "data": {
      "text/plain": [
       "array([1, 2, 3])"
      ]
     },
     "execution_count": 77,
     "metadata": {},
     "output_type": "execute_result"
    }
   ],
   "source": [
    "np.where(C,A,B)"
   ]
  },
  {
   "cell_type": "code",
   "execution_count": 78,
   "id": "1ae01880",
   "metadata": {},
   "outputs": [],
   "source": [
    "arr1 = np.random.randint(1,11,10)"
   ]
  },
  {
   "cell_type": "code",
   "execution_count": 79,
   "id": "245bfca5",
   "metadata": {},
   "outputs": [
    {
     "data": {
      "text/plain": [
       "array([ 4,  3,  5,  2,  6,  2,  2, 10,  4,  6])"
      ]
     },
     "execution_count": 79,
     "metadata": {},
     "output_type": "execute_result"
    }
   ],
   "source": [
    "arr1"
   ]
  },
  {
   "cell_type": "code",
   "execution_count": 80,
   "id": "38cbb9dd",
   "metadata": {},
   "outputs": [
    {
     "data": {
      "text/plain": [
       "(array([0, 1, 3, 5, 6, 8], dtype=int64),)"
      ]
     },
     "execution_count": 80,
     "metadata": {},
     "output_type": "execute_result"
    }
   ],
   "source": [
    "np.where(arr1<5)"
   ]
  },
  {
   "cell_type": "code",
   "execution_count": 81,
   "id": "468c2cbd",
   "metadata": {},
   "outputs": [
    {
     "data": {
      "text/plain": [
       "(array([4, 7, 9], dtype=int64),)"
      ]
     },
     "execution_count": 81,
     "metadata": {},
     "output_type": "execute_result"
    }
   ],
   "source": [
    "np.where(arr1>5)"
   ]
  },
  {
   "cell_type": "code",
   "execution_count": 82,
   "id": "5b81d24c",
   "metadata": {},
   "outputs": [
    {
     "data": {
      "text/plain": [
       "(array([2], dtype=int64),)"
      ]
     },
     "execution_count": 82,
     "metadata": {},
     "output_type": "execute_result"
    }
   ],
   "source": [
    "np.where(arr1==5)"
   ]
  },
  {
   "cell_type": "code",
   "execution_count": null,
   "id": "6b8c76c0",
   "metadata": {},
   "outputs": [],
   "source": []
  }
 ],
 "metadata": {
  "kernelspec": {
   "display_name": "Python 3 (ipykernel)",
   "language": "python",
   "name": "python3"
  },
  "language_info": {
   "codemirror_mode": {
    "name": "ipython",
    "version": 3
   },
   "file_extension": ".py",
   "mimetype": "text/x-python",
   "name": "python",
   "nbconvert_exporter": "python",
   "pygments_lexer": "ipython3",
   "version": "3.11.4"
  }
 },
 "nbformat": 4,
 "nbformat_minor": 5
}
