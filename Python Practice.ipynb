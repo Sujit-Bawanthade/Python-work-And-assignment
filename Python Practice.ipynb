{
 "cells": [
  {
   "cell_type": "code",
   "execution_count": 4,
   "id": "2846fa9a",
   "metadata": {},
   "outputs": [],
   "source": [
    "import sys\n",
    "import keyword\n",
    "import operator\n",
    "from datetime import datetime\n",
    "import os"
   ]
  },
  {
   "cell_type": "markdown",
   "id": "cdd1ad76",
   "metadata": {},
   "source": [
    "### Keywords3"
   ]
  },
  {
   "cell_type": "markdown",
   "id": "a7aff8b7",
   "metadata": {},
   "source": [
    "### Keywords are the reserved words in Python And cant be uesd as an indentifire"
   ]
  },
  {
   "cell_type": "code",
   "execution_count": 6,
   "id": "53d6e466",
   "metadata": {},
   "outputs": [
    {
     "name": "stdout",
     "output_type": "stream",
     "text": [
      "['False', 'None', 'True', 'and', 'as', 'assert', 'async', 'await', 'break', 'class', 'continue', 'def', 'del', 'elif', 'else', 'except', 'finally', 'for', 'from', 'global', 'if', 'import', 'in', 'is', 'lambda', 'nonlocal', 'not', 'or', 'pass', 'raise', 'return', 'try', 'while', 'with', 'yield']\n"
     ]
    }
   ],
   "source": [
    "print(keyword.kwlist) ## List All Python Keywords"
   ]
  },
  {
   "cell_type": "code",
   "execution_count": 7,
   "id": "35a025e8",
   "metadata": {},
   "outputs": [
    {
     "data": {
      "text/plain": [
       "35"
      ]
     },
     "execution_count": 7,
     "metadata": {},
     "output_type": "execute_result"
    }
   ],
   "source": [
    "len(keyword.kwlist) # Python Contains 35 keywords"
   ]
  },
  {
   "cell_type": "markdown",
   "id": "a19a9bd0",
   "metadata": {},
   "source": [
    "### Indetifiers3"
   ]
  },
  {
   "cell_type": "markdown",
   "id": "f2d09acb",
   "metadata": {},
   "source": [
    "an indetifire is a name given to entities like class, functions, variables, etc.it helps to differenttiat one entity from anthoer."
   ]
  },
  {
   "cell_type": "code",
   "execution_count": 9,
   "id": "52830359",
   "metadata": {},
   "outputs": [
    {
     "ename": "SyntaxError",
     "evalue": "invalid decimal literal (1803430986.py, line 1)",
     "output_type": "error",
     "traceback": [
      "\u001b[1;36m  Cell \u001b[1;32mIn[9], line 1\u001b[1;36m\u001b[0m\n\u001b[1;33m    1var =10 #Indetifire can strat with a digit\u001b[0m\n\u001b[1;37m    ^\u001b[0m\n\u001b[1;31mSyntaxError\u001b[0m\u001b[1;31m:\u001b[0m invalid decimal literal\n"
     ]
    }
   ],
   "source": [
    "1var =10 #Indetifire can strat with a digit"
   ]
  },
  {
   "cell_type": "code",
   "execution_count": 10,
   "id": "5b87db6a",
   "metadata": {},
   "outputs": [
    {
     "ename": "SyntaxError",
     "evalue": "invalid syntax (3312779589.py, line 1)",
     "output_type": "error",
     "traceback": [
      "\u001b[1;36m  Cell \u001b[1;32mIn[10], line 1\u001b[1;36m\u001b[0m\n\u001b[1;33m    val2@ = 35 #Identifire cant ues special symbol\u001b[0m\n\u001b[1;37m          ^\u001b[0m\n\u001b[1;31mSyntaxError\u001b[0m\u001b[1;31m:\u001b[0m invalid syntax\n"
     ]
    }
   ],
   "source": [
    "val2@ = 35 #Identifire cant ues special symbol"
   ]
  },
  {
   "cell_type": "code",
   "execution_count": 11,
   "id": "a607407b",
   "metadata": {},
   "outputs": [
    {
     "ename": "SyntaxError",
     "evalue": "invalid syntax (3081218935.py, line 1)",
     "output_type": "error",
     "traceback": [
      "\u001b[1;36m  Cell \u001b[1;32mIn[11], line 1\u001b[1;36m\u001b[0m\n\u001b[1;33m    import = 123 #Keywords cant be uesd as indefire\u001b[0m\n\u001b[1;37m           ^\u001b[0m\n\u001b[1;31mSyntaxError\u001b[0m\u001b[1;31m:\u001b[0m invalid syntax\n"
     ]
    }
   ],
   "source": [
    "import = 123 #Keywords cant be uesd as indefire"
   ]
  },
  {
   "cell_type": "code",
   "execution_count": null,
   "id": "031c9585",
   "metadata": {},
   "outputs": [],
   "source": []
  }
 ],
 "metadata": {
  "kernelspec": {
   "display_name": "Python 3 (ipykernel)",
   "language": "python",
   "name": "python3"
  },
  "language_info": {
   "codemirror_mode": {
    "name": "ipython",
    "version": 3
   },
   "file_extension": ".py",
   "mimetype": "text/x-python",
   "name": "python",
   "nbconvert_exporter": "python",
   "pygments_lexer": "ipython3",
   "version": "3.11.4"
  }
 },
 "nbformat": 4,
 "nbformat_minor": 5
}
