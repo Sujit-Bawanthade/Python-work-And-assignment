{
 "cells": [
  {
   "cell_type": "code",
   "execution_count": 1,
   "id": "80edfbd0",
   "metadata": {},
   "outputs": [
    {
     "data": {
      "text/plain": [
       "['Bangalore', 'Goa', 'Mumbai']"
      ]
     },
     "execution_count": 1,
     "metadata": {},
     "output_type": "execute_result"
    }
   ],
   "source": [
    "cities = ['Bangalore','Goa','Mumbai']\n",
    "cities"
   ]
  },
  {
   "cell_type": "code",
   "execution_count": 2,
   "id": "72314e48",
   "metadata": {},
   "outputs": [
    {
     "data": {
      "text/plain": [
       "['Bangalore', 'Goa', 'Mumbai', 'Nagpur']"
      ]
     },
     "execution_count": 2,
     "metadata": {},
     "output_type": "execute_result"
    }
   ],
   "source": [
    "cities.append('Nagpur')\n",
    "cities"
   ]
  },
  {
   "cell_type": "code",
   "execution_count": 4,
   "id": "c8c64226",
   "metadata": {},
   "outputs": [
    {
     "data": {
      "text/plain": [
       "['Bangalore', 'Goa', 'Mumbai', 'Nagpur', 'Gondia', 'Gondia']"
      ]
     },
     "execution_count": 4,
     "metadata": {},
     "output_type": "execute_result"
    }
   ],
   "source": [
    "cities.append('Gondia')\n",
    "cities"
   ]
  },
  {
   "cell_type": "code",
   "execution_count": 5,
   "id": "d0bfb8f8",
   "metadata": {},
   "outputs": [
    {
     "data": {
      "text/plain": [
       "['Bangalore',\n",
       " 'Goa',\n",
       " 'Mumbai',\n",
       " 'Nagpur',\n",
       " 'Gondia',\n",
       " 'Gondia',\n",
       " 'Bhnandar',\n",
       " 'kalabnade']"
      ]
     },
     "execution_count": 5,
     "metadata": {},
     "output_type": "execute_result"
    }
   ],
   "source": [
    "cities.extend(['Bhnandar','kalabnade'])\n",
    "cities"
   ]
  },
  {
   "cell_type": "code",
   "execution_count": 7,
   "id": "7330da1f",
   "metadata": {},
   "outputs": [
    {
     "data": {
      "text/plain": [
       "['Bangalore',\n",
       " 'Goa',\n",
       " 'Mumbai',\n",
       " 'Nagpur',\n",
       " 'Gondia',\n",
       " 'Gondia',\n",
       " 'Bhnandar',\n",
       " 'kalabnade',\n",
       " 'Amravati',\n",
       " 'Amravati']"
      ]
     },
     "execution_count": 7,
     "metadata": {},
     "output_type": "execute_result"
    }
   ],
   "source": [
    "cities.append('Amravati')\n",
    "cities"
   ]
  },
  {
   "cell_type": "code",
   "execution_count": 8,
   "id": "e5821478",
   "metadata": {},
   "outputs": [
    {
     "data": {
      "text/plain": [
       "['Bangalore',\n",
       " 'Goa',\n",
       " 'thana',\n",
       " 'Mumbai',\n",
       " 'Nagpur',\n",
       " 'Gondia',\n",
       " 'Gondia',\n",
       " 'Bhnandar',\n",
       " 'kalabnade',\n",
       " 'Amravati',\n",
       " 'Amravati']"
      ]
     },
     "execution_count": 8,
     "metadata": {},
     "output_type": "execute_result"
    }
   ],
   "source": [
    "cities.insert(2,'thana')\n",
    "cities"
   ]
  },
  {
   "cell_type": "code",
   "execution_count": 11,
   "id": "0a00b7e7",
   "metadata": {},
   "outputs": [
    {
     "data": {
      "text/plain": [
       "['Bangalore',\n",
       " 'thana',\n",
       " 'Mumbai',\n",
       " 'Nagpur',\n",
       " 'Gondia',\n",
       " 'Gondia',\n",
       " 'Bhnandar',\n",
       " 'Amravati',\n",
       " 'Amravati']"
      ]
     },
     "execution_count": 11,
     "metadata": {},
     "output_type": "execute_result"
    }
   ],
   "source": [
    "cities.remove('Goa')\n",
    "cities"
   ]
  },
  {
   "cell_type": "code",
   "execution_count": 13,
   "id": "99ce0db3",
   "metadata": {},
   "outputs": [
    {
     "data": {
      "text/plain": [
       "['Mumbai', 'Nagpur', 'Gondia', 'Gondia', 'Bhnandar', 'Amravati', 'Amravati']"
      ]
     },
     "execution_count": 13,
     "metadata": {},
     "output_type": "execute_result"
    }
   ],
   "source": [
    "del cities[0]\n",
    "cities"
   ]
  },
  {
   "cell_type": "code",
   "execution_count": 14,
   "id": "780945bf",
   "metadata": {},
   "outputs": [
    {
     "data": {
      "text/plain": [
       "['Mumbai', 'Nagpur', 'Gondia', 'Gondia', 'Bhnandar', 'Amravati']"
      ]
     },
     "execution_count": 14,
     "metadata": {},
     "output_type": "execute_result"
    }
   ],
   "source": [
    "del cities[-1]\n",
    "cities"
   ]
  },
  {
   "cell_type": "code",
   "execution_count": 15,
   "id": "96a62c7c",
   "metadata": {},
   "outputs": [
    {
     "data": {
      "text/plain": [
       "'Mumbai'"
      ]
     },
     "execution_count": 15,
     "metadata": {},
     "output_type": "execute_result"
    }
   ],
   "source": [
    "cities.pop(0)\n"
   ]
  },
  {
   "cell_type": "code",
   "execution_count": 16,
   "id": "7a6a7c1b",
   "metadata": {},
   "outputs": [
    {
     "data": {
      "text/plain": [
       "['Nagpur', 'Gondia', 'Gondia', 'Bhnandar', 'Amravati']"
      ]
     },
     "execution_count": 16,
     "metadata": {},
     "output_type": "execute_result"
    }
   ],
   "source": [
    "cities"
   ]
  },
  {
   "cell_type": "code",
   "execution_count": null,
   "id": "66a0294a",
   "metadata": {},
   "outputs": [],
   "source": []
  }
 ],
 "metadata": {
  "kernelspec": {
   "display_name": "Python 3 (ipykernel)",
   "language": "python",
   "name": "python3"
  },
  "language_info": {
   "codemirror_mode": {
    "name": "ipython",
    "version": 3
   },
   "file_extension": ".py",
   "mimetype": "text/x-python",
   "name": "python",
   "nbconvert_exporter": "python",
   "pygments_lexer": "ipython3",
   "version": "3.11.4"
  }
 },
 "nbformat": 4,
 "nbformat_minor": 5
}
