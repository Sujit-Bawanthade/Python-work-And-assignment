{
 "cells": [
  {
   "cell_type": "code",
   "execution_count": 1,
   "id": "70135600",
   "metadata": {},
   "outputs": [
    {
     "name": "stdout",
     "output_type": "stream",
     "text": [
      "hello\n"
     ]
    }
   ],
   "source": [
    "print(\"hello\")"
   ]
  },
  {
   "cell_type": "code",
   "execution_count": 2,
   "id": "6152ed19",
   "metadata": {},
   "outputs": [],
   "source": [
    "#Daynamic programing\n",
    "a =10"
   ]
  },
  {
   "cell_type": "code",
   "execution_count": 3,
   "id": "6dfed041",
   "metadata": {},
   "outputs": [
    {
     "data": {
      "text/plain": [
       "10"
      ]
     },
     "execution_count": 3,
     "metadata": {},
     "output_type": "execute_result"
    }
   ],
   "source": [
    "a"
   ]
  },
  {
   "cell_type": "code",
   "execution_count": 4,
   "id": "7535796f",
   "metadata": {},
   "outputs": [
    {
     "data": {
      "text/plain": [
       "int"
      ]
     },
     "execution_count": 4,
     "metadata": {},
     "output_type": "execute_result"
    }
   ],
   "source": [
    "type(a)"
   ]
  },
  {
   "cell_type": "code",
   "execution_count": 5,
   "id": "8fb66d4e",
   "metadata": {},
   "outputs": [],
   "source": [
    "b =12.34"
   ]
  },
  {
   "cell_type": "code",
   "execution_count": 6,
   "id": "e7b5c492",
   "metadata": {},
   "outputs": [
    {
     "data": {
      "text/plain": [
       "12.34"
      ]
     },
     "execution_count": 6,
     "metadata": {},
     "output_type": "execute_result"
    }
   ],
   "source": [
    "b\n"
   ]
  },
  {
   "cell_type": "code",
   "execution_count": 7,
   "id": "86d71076",
   "metadata": {},
   "outputs": [
    {
     "data": {
      "text/plain": [
       "float"
      ]
     },
     "execution_count": 7,
     "metadata": {},
     "output_type": "execute_result"
    }
   ],
   "source": [
    "type(b)"
   ]
  },
  {
   "cell_type": "markdown",
   "id": "7a44cd41",
   "metadata": {},
   "source": [
    "Data type in python\n",
    "- int\n",
    "- float\n",
    "- str\n",
    "- bool\n",
    "- complex\n"
   ]
  },
  {
   "cell_type": "code",
   "execution_count": 8,
   "id": "3e712690",
   "metadata": {},
   "outputs": [
    {
     "data": {
      "text/plain": [
       "100"
      ]
     },
     "execution_count": 8,
     "metadata": {},
     "output_type": "execute_result"
    }
   ],
   "source": [
    "m1 = 100\n",
    "m1"
   ]
  },
  {
   "cell_type": "code",
   "execution_count": 9,
   "id": "0e1f13c6",
   "metadata": {},
   "outputs": [
    {
     "data": {
      "text/plain": [
       "int"
      ]
     },
     "execution_count": 9,
     "metadata": {},
     "output_type": "execute_result"
    }
   ],
   "source": [
    "type(m1)"
   ]
  },
  {
   "cell_type": "code",
   "execution_count": 10,
   "id": "7473b26c",
   "metadata": {},
   "outputs": [
    {
     "data": {
      "text/plain": [
       "str"
      ]
     },
     "execution_count": 10,
     "metadata": {},
     "output_type": "execute_result"
    }
   ],
   "source": [
    "s = \"heloo pallo\"\n",
    "type(s)"
   ]
  },
  {
   "cell_type": "markdown",
   "id": "765babf4",
   "metadata": {},
   "source": [
    "#bool \n",
    "- True\n",
    "- False"
   ]
  },
  {
   "cell_type": "markdown",
   "id": "8d7d71d7",
   "metadata": {},
   "source": [
    "# "
   ]
  },
  {
   "cell_type": "code",
   "execution_count": 11,
   "id": "76011f72",
   "metadata": {},
   "outputs": [],
   "source": [
    "a1 = True"
   ]
  },
  {
   "cell_type": "code",
   "execution_count": 12,
   "id": "be4c1de9",
   "metadata": {},
   "outputs": [
    {
     "data": {
      "text/plain": [
       "bool"
      ]
     },
     "execution_count": 12,
     "metadata": {},
     "output_type": "execute_result"
    }
   ],
   "source": [
    "type(a1)"
   ]
  },
  {
   "cell_type": "code",
   "execution_count": 13,
   "id": "1cd19067",
   "metadata": {},
   "outputs": [
    {
     "name": "stdout",
     "output_type": "stream",
     "text": [
      "['False', 'None', 'True', 'and', 'as', 'assert', 'async', 'await', 'break', 'class', 'continue', 'def', 'del', 'elif', 'else', 'except', 'finally', 'for', 'from', 'global', 'if', 'import', 'in', 'is', 'lambda', 'nonlocal', 'not', 'or', 'pass', 'raise', 'return', 'try', 'while', 'with', 'yield']\n"
     ]
    }
   ],
   "source": [
    "#keyword\n",
    "import keyword as key\n",
    "k = key.kwlist\n",
    "print(k)"
   ]
  },
  {
   "cell_type": "code",
   "execution_count": 14,
   "id": "e41d40af",
   "metadata": {},
   "outputs": [
    {
     "data": {
      "text/plain": [
       "12"
      ]
     },
     "execution_count": 14,
     "metadata": {},
     "output_type": "execute_result"
    }
   ],
   "source": [
    "float = 12\n",
    "float"
   ]
  },
  {
   "cell_type": "markdown",
   "id": "dedbeb67",
   "metadata": {},
   "source": [
    "#f- String\n",
    "An f-string is a way to create strings that can include values of variables or calculations directly within them. It's like putting placeholders in a sentence and filling those placeholders with real values."
   ]
  },
  {
   "cell_type": "code",
   "execution_count": 19,
   "id": "c41cf272",
   "metadata": {},
   "outputs": [
    {
     "name": "stdout",
     "output_type": "stream",
     "text": [
      "my name is Suj, is am 25 year old\n"
     ]
    }
   ],
   "source": [
    "name = 'Suj'\n",
    "age = 25\n",
    "p = f\"my name is {name}, is am {age} year old\"\n",
    "print(p)"
   ]
  },
  {
   "cell_type": "code",
   "execution_count": 22,
   "id": "522f0ddb",
   "metadata": {},
   "outputs": [],
   "source": [
    "name = 'suji'\n",
    "age = '2'\n",
    "p = f\"my name is {name}, is am {age} year old\""
   ]
  },
  {
   "cell_type": "code",
   "execution_count": 23,
   "id": "649fe33c",
   "metadata": {},
   "outputs": [
    {
     "data": {
      "text/plain": [
       "'my name is suji, is am 2 year old'"
      ]
     },
     "execution_count": 23,
     "metadata": {},
     "output_type": "execute_result"
    }
   ],
   "source": [
    "p"
   ]
  },
  {
   "cell_type": "markdown",
   "id": "01ec6975",
   "metadata": {},
   "source": [
    "k1 = 20\n",
    "k2 = 10\n",
    "\n",
    "k1+k2"
   ]
  },
  {
   "cell_type": "code",
   "execution_count": 26,
   "id": "6379208e",
   "metadata": {},
   "outputs": [
    {
     "name": "stdout",
     "output_type": "stream",
     "text": [
      "enter a number3\n"
     ]
    }
   ],
   "source": [
    "num1 = input('enter a number')"
   ]
  },
  {
   "cell_type": "code",
   "execution_count": 27,
   "id": "66e7041a",
   "metadata": {},
   "outputs": [
    {
     "data": {
      "text/plain": [
       "str"
      ]
     },
     "execution_count": 27,
     "metadata": {},
     "output_type": "execute_result"
    }
   ],
   "source": [
    "type(num1)"
   ]
  },
  {
   "cell_type": "code",
   "execution_count": 28,
   "id": "2daf0e17",
   "metadata": {},
   "outputs": [
    {
     "name": "stdout",
     "output_type": "stream",
     "text": [
      "enter a first number: 23\n",
      "enter a second number:40\n",
      "63\n"
     ]
    }
   ],
   "source": [
    "num2 = int(input('enter a first number: '))\n",
    "num3 = int(input('enter a second number:'))\n",
    "print(num2 +num3)"
   ]
  },
  {
   "cell_type": "markdown",
   "id": "36bb23d5",
   "metadata": {},
   "source": [
    "operation in python\n",
    "- Arithmetic operators\n",
    "- assignment opertaor\n",
    "- comparision operator\n",
    "- logical operator\n",
    "- indentiy opertor \n",
    "- membership opertor\n",
    "- bitwise opertor\n"
   ]
  },
  {
   "cell_type": "markdown",
   "id": "ba62fa77",
   "metadata": {},
   "source": [
    "- Addition (x + y)\n",
    "- Subtraction (x - y)\n",
    "- Multiplication (x * y)\n",
    "- Division (x / y)\n",
    "- Modulus (x % y)\n",
    "- Exponentiation (x ** y)\n",
    "- Floor division (x // y)"
   ]
  },
  {
   "cell_type": "code",
   "execution_count": 31,
   "id": "8a86a010",
   "metadata": {},
   "outputs": [
    {
     "data": {
      "text/plain": [
       "15"
      ]
     },
     "execution_count": 31,
     "metadata": {},
     "output_type": "execute_result"
    }
   ],
   "source": [
    "x= 12\n",
    "x +=3\n",
    "x"
   ]
  },
  {
   "cell_type": "code",
   "execution_count": 32,
   "id": "52ff5843",
   "metadata": {},
   "outputs": [],
   "source": [
    "x>>=6"
   ]
  },
  {
   "cell_type": "code",
   "execution_count": 33,
   "id": "1fc3bbed",
   "metadata": {},
   "outputs": [
    {
     "data": {
      "text/plain": [
       "0"
      ]
     },
     "execution_count": 33,
     "metadata": {},
     "output_type": "execute_result"
    }
   ],
   "source": [
    "x"
   ]
  },
  {
   "cell_type": "code",
   "execution_count": 34,
   "id": "de5ac8bb",
   "metadata": {},
   "outputs": [
    {
     "data": {
      "text/plain": [
       "0"
      ]
     },
     "execution_count": 34,
     "metadata": {},
     "output_type": "execute_result"
    }
   ],
   "source": [
    "x<<=6\n",
    "x"
   ]
  },
  {
   "cell_type": "code",
   "execution_count": 35,
   "id": "b5dc17c7",
   "metadata": {},
   "outputs": [
    {
     "data": {
      "text/plain": [
       "False"
      ]
     },
     "execution_count": 35,
     "metadata": {},
     "output_type": "execute_result"
    }
   ],
   "source": [
    "h1 = 500\n",
    "h2 =900\n",
    "id(h1)\n",
    "id(h2)\n",
    "h1 is h2"
   ]
  },
  {
   "cell_type": "code",
   "execution_count": 36,
   "id": "7f7ad5f2",
   "metadata": {},
   "outputs": [
    {
     "data": {
      "text/plain": [
       "True"
      ]
     },
     "execution_count": 36,
     "metadata": {},
     "output_type": "execute_result"
    }
   ],
   "source": [
    "h1 = 500\n",
    "h2 =500\n",
    "id(h1)\n",
    "id(h2)\n",
    "h1 is not h2"
   ]
  },
  {
   "cell_type": "code",
   "execution_count": null,
   "id": "8b9a242d",
   "metadata": {},
   "outputs": [],
   "source": []
  }
 ],
 "metadata": {
  "kernelspec": {
   "display_name": "Python 3 (ipykernel)",
   "language": "python",
   "name": "python3"
  },
  "language_info": {
   "codemirror_mode": {
    "name": "ipython",
    "version": 3
   },
   "file_extension": ".py",
   "mimetype": "text/x-python",
   "name": "python",
   "nbconvert_exporter": "python",
   "pygments_lexer": "ipython3",
   "version": "3.11.4"
  }
 },
 "nbformat": 4,
 "nbformat_minor": 5
}
